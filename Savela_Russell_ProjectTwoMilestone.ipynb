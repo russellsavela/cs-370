{
 "cells": [
  {
   "cell_type": "markdown",
   "metadata": {},
   "source": [
    "# Treasure Hunt Game Notebook\n",
    "\n",
    "## Read and Review Your Starter Code\n",
    "The theme of this project is a popular treasure hunt game in which the player needs to find the treasure before the pirate does. While you will not be developing the entire game, you will write the part of the game that represents the intelligent agent, which is a pirate in this case. The pirate will try to find the optimal path to the treasure using deep Q-learning. \n",
    "\n",
    "You have been provided with two Python classes and this notebook to help you with this assignment. The first class, TreasureMaze.py, represents the environment, which includes a maze object defined as a matrix. The second class, GameExperience.py, stores the episodes – that is, all the states that come in between the initial state and the terminal state. This is later used by the agent for learning by experience, called \"exploration\". This notebook shows how to play a game. Your task is to complete the deep Q-learning implementation for which a skeleton implementation has been provided. The code blocks you will need to complete has #TODO as a header.\n",
    "\n",
    "First, read and review the next few code and instruction blocks to understand the code that you have been given."
   ]
  },
  {
   "cell_type": "code",
   "execution_count": 75,
   "metadata": {},
   "outputs": [],
   "source": [
    "from __future__ import print_function\n",
    "import os, sys, time, datetime, json, random\n",
    "import numpy as np\n",
    "from keras.models import Sequential\n",
    "from keras.layers.core import Dense, Activation\n",
    "from keras.optimizers import SGD , Adam, RMSprop\n",
    "from keras.layers.advanced_activations import PReLU\n",
    "import matplotlib.pyplot as plt\n",
    "from TreasureMaze import TreasureMaze\n",
    "from GameExperience import GameExperience\n",
    "%matplotlib inline"
   ]
  },
  {
   "cell_type": "markdown",
   "metadata": {},
   "source": [
    "The following code block contains an 8x8 matrix that will be used as a maze object:"
   ]
  },
  {
   "cell_type": "code",
   "execution_count": 76,
   "metadata": {},
   "outputs": [],
   "source": [
    "maze = np.array([\n",
    "    [ 1.,  0.,  1.,  1.,  1.,  1.,  1.,  1.],\n",
    "    [ 1.,  0.,  1.,  1.,  1.,  0.,  1.,  1.],\n",
    "    [ 1.,  1.,  1.,  1.,  0.,  1.,  0.,  1.],\n",
    "    [ 1.,  1.,  1.,  0.,  1.,  1.,  1.,  1.],\n",
    "    [ 1.,  1.,  0.,  1.,  1.,  1.,  1.,  1.],\n",
    "    [ 1.,  1.,  1.,  0.,  1.,  0.,  0.,  0.],\n",
    "    [ 1.,  1.,  1.,  0.,  1.,  1.,  1.,  1.],\n",
    "    [ 1.,  1.,  1.,  1.,  0.,  1.,  1.,  1.]\n",
    "])"
   ]
  },
  {
   "cell_type": "markdown",
   "metadata": {},
   "source": [
    "This helper function allows a visual representation of the maze object:"
   ]
  },
  {
   "cell_type": "code",
   "execution_count": 77,
   "metadata": {},
   "outputs": [],
   "source": [
    "def show(qmaze):\n",
    "    plt.grid('on')\n",
    "    nrows, ncols = qmaze.maze.shape\n",
    "    ax = plt.gca()\n",
    "    ax.set_xticks(np.arange(0.5, nrows, 1))\n",
    "    ax.set_yticks(np.arange(0.5, ncols, 1))\n",
    "    ax.set_xticklabels([])\n",
    "    ax.set_yticklabels([])\n",
    "    canvas = np.copy(qmaze.maze)\n",
    "    for row,col in qmaze.visited:\n",
    "        canvas[row,col] = 0.6\n",
    "    pirate_row, pirate_col, _ = qmaze.state\n",
    "    canvas[pirate_row, pirate_col] = 0.3   # pirate cell\n",
    "    canvas[nrows-1, ncols-1] = 0.9 # treasure cell\n",
    "    img = plt.imshow(canvas, interpolation='none', cmap='gray')\n",
    "    return img"
   ]
  },
  {
   "cell_type": "markdown",
   "metadata": {},
   "source": [
    "The pirate agent can move in four directions: left, right, up, and down. \n",
    "\n",
    "While the agent primarily learns by experience through exploitation, often, the agent can choose to explore the environment to find previously undiscovered paths. This is called \"exploration\" and is defined by epsilon. This value is typically a lower value such as 0.1, which means for every ten attempts, the agent will attempt to learn by experience nine times and will randomly explore a new path one time. You are encouraged to try various values for the exploration factor and see how the algorithm performs."
   ]
  },
  {
   "cell_type": "code",
   "execution_count": 78,
   "metadata": {},
   "outputs": [],
   "source": [
    "LEFT = 0\n",
    "UP = 1\n",
    "RIGHT = 2\n",
    "DOWN = 3\n",
    "\n",
    "\n",
    "# Exploration factor\n",
    "epsilon = 0.1\n",
    "\n",
    "# Actions dictionary\n",
    "actions_dict = {\n",
    "    LEFT: 'left',\n",
    "    UP: 'up',\n",
    "    RIGHT: 'right',\n",
    "    DOWN: 'down',\n",
    "}\n",
    "\n",
    "num_actions = len(actions_dict)\n"
   ]
  },
  {
   "cell_type": "markdown",
   "metadata": {},
   "source": [
    "The sample code block and output below show creating a maze object and performing one action (DOWN), which returns the reward. The resulting updated environment is visualized."
   ]
  },
  {
   "cell_type": "code",
   "execution_count": 79,
   "metadata": {},
   "outputs": [
    {
     "name": "stdout",
     "output_type": "stream",
     "text": [
      "reward= -0.04\n"
     ]
    },
    {
     "data": {
      "text/plain": [
       "<matplotlib.image.AxesImage at 0x172cba73708>"
      ]
     },
     "execution_count": 79,
     "metadata": {},
     "output_type": "execute_result"
    },
    {
     "data": {
      "image/png": "[encoded data removed]",
      "text/plain": [
       "<Figure size 432x288 with 1 Axes>"
      ]
     },
     "metadata": {
      "needs_background": "light"
     },
     "output_type": "display_data"
    }
   ],
   "source": [
    "qmaze = TreasureMaze(maze)\n",
    "canvas, reward, game_over = qmaze.act(DOWN)\n",
    "print(\"reward=\", reward)\n",
    "show(qmaze)"
   ]
  },
  {
   "cell_type": "markdown",
   "metadata": {},
   "source": [
    "This function simulates a full game based on the provided trained model. The other parameters include the TreasureMaze object and the starting position of the pirate."
   ]
  },
  {
   "cell_type": "code",
   "execution_count": 80,
   "metadata": {},
   "outputs": [],
   "source": [
    "def play_game(model, qmaze, pirate_cell):\n",
    "    qmaze.reset(pirate_cell)\n",
    "    envstate = qmaze.observe()\n",
    "    while True:\n",
    "        prev_envstate = envstate\n",
    "        # get next action\n",
    "        q = model.predict(prev_envstate)\n",
    "        action = np.argmax(q[0])\n",
    "\n",
    "        # apply action, get rewards and new state\n",
    "        envstate, reward, game_status = qmaze.act(action)\n",
    "        if game_status == 'win':\n",
    "            return True\n",
    "        elif game_status == 'lose':\n",
    "            return False"
   ]
  },
  {
   "cell_type": "markdown",
   "metadata": {},
   "source": [
    "This function helps you to determine whether the pirate can win any game at all. If your maze is not well designed, the pirate may not win any game at all. In this case, your training would not yield any result. The provided maze in this notebook ensures that there is a path to win and you can run this method to check."
   ]
  },
  {
   "cell_type": "code",
   "execution_count": 81,
   "metadata": {},
   "outputs": [],
   "source": [
    "def completion_check(model, qmaze):\n",
    "    for cell in qmaze.free_cells:\n",
    "        if not qmaze.valid_actions(cell):\n",
    "            return False\n",
    "        if not play_game(model, qmaze, cell):\n",
    "            return False\n",
    "    return True"
   ]
  },
  {
   "cell_type": "markdown",
   "metadata": {},
   "source": [
    "The code you have been given in this block will build the neural network model. Review the code and note the number of layers, as well as the activation, optimizer, and loss functions that are used to train the model."
   ]
  },
  {
   "cell_type": "code",
   "execution_count": 82,
   "metadata": {},
   "outputs": [],
   "source": [
    "def build_model(maze):\n",
    "    model = Sequential()\n",
    "    model.add(Dense(maze.size, input_shape=(maze.size,)))\n",
    "    model.add(PReLU())\n",
    "    model.add(Dense(maze.size))\n",
    "    model.add(PReLU())\n",
    "    model.add(Dense(num_actions))\n",
    "    model.compile(optimizer='adam', loss='mse')\n",
    "    return model"
   ]
  },
  {
   "cell_type": "markdown",
   "metadata": {},
   "source": [
    "# #TODO: Complete the Q-Training Algorithm Code Block\n",
    "\n",
    "This is your deep Q-learning implementation. The goal of your deep Q-learning implementation is to find the best possible navigation sequence that results in reaching the treasure cell while maximizing the reward. In your implementation, you need to determine the optimal number of epochs to achieve a 100% win rate.\n",
    "\n",
    "You will need to complete the section starting with #pseudocode. The pseudocode has been included for you."
   ]
  },
  {
   "cell_type": "code",
   "execution_count": 88,
   "metadata": {},
   "outputs": [],
   "source": [
    "def qtrain(model, maze, **opt):\n",
    "\n",
    "    # exploration factor\n",
    "    global epsilon \n",
    "\n",
    "    # number of epochs\n",
    "    n_epoch = opt.get('n_epoch', 15000)\n",
    "\n",
    "\n",
    "    # maximum memory to store episodes\n",
    "    max_memory = opt.get('max_memory', 1000)\n",
    "\n",
    "    # maximum data size for training\n",
    "    data_size = opt.get('data_size', 50)\n",
    "\n",
    "    # start time\n",
    "    start_time = datetime.datetime.now()\n",
    "\n",
    "    # Construct environment/game from numpy array: maze (see above)\n",
    "    qmaze = TreasureMaze(maze)\n",
    "\n",
    "    # Initialize experience replay object\n",
    "    experience = GameExperience(model, max_memory=max_memory)\n",
    "    \n",
    "    win_history = []   # history of win/lose game\n",
    "    hsize = qmaze.maze.size//2   # history window size\n",
    "    win_rate = 0.0\n",
    "    \n",
    "    # define\n",
    "    \n",
    "    # pseudocode:\n",
    "    \n",
    "            \n",
    "    EXP_MIN = 0.01\n",
    "    EXP_DECAY = 0.99\n",
    "        \n",
    "    # \n",
    "    #  this took some trial and error to find,\n",
    "    #  too large and the model does not learn.\n",
    "    exp_rate = epsilon\n",
    "    \n",
    "    # For each epoch:\n",
    "    #for epochIndex in range(n_epoch):\n",
    "    # -- loop index needs to be \"epoch\"\n",
    "    for epoch in range(n_epoch):     \n",
    "        \n",
    "        #    Agent_cell = per the Agent specifications, start at the top left\n",
    "        Agent_cell = (0,0)\n",
    "        \n",
    "        #    Reset the maze with agent set to above position\n",
    "        #    Hint: Review the reset method in the TreasureMaze.py class.\n",
    "        qmaze.reset(Agent_cell)\n",
    "               \n",
    "        #    envstate = Environment.current_state\n",
    "        #    Hint: Review the observe method in the TreasureMaze.py class.\n",
    "        # TreasureMaze.observe() - This method returns the current environment state.\n",
    "        envstate = qmaze.observe()\n",
    "            \n",
    "        # loss and n_episodes are used below, so initialize them both\n",
    "        loss = 0\n",
    "        n_episodes = 0\n",
    "        \n",
    "        game_over = False\n",
    "           \n",
    "        \n",
    "        while (game_over == False): \n",
    "            \n",
    "            #  previous_envstate = envstate\n",
    "            previous_envstate = envstate\n",
    "            \n",
    "            # Action = randomly choose action (left, right, up, down) either by exploration or by exploitation\n",
    "            #\n",
    "            # Start by seeing what we can do\n",
    "            valid_moves = qmaze.valid_actions()\n",
    "            # Don't bother if there aren't any moves\n",
    "            if (len(valid_moves) == 0):\n",
    "                break\n",
    "            \n",
    "            # Use exp_rate to determine whether to use experience replay\n",
    "            #  or choose a random move, using an epsilon-greedy policy.\n",
    "            if (random.random() > exp_rate):\n",
    "                # trust experience \n",
    "                #move = np.argmax(experience.predict(envstate), axis=0) -- needs to be the last state\n",
    "                move = np.argmax(experience.predict(previous_envstate))\n",
    "            else:\n",
    "                # blindly guess\n",
    "                move = random.choice(valid_moves)\n",
    "            \n",
    "            #  envstate, reward, game_status = qmaze.act(action)\n",
    "            # Hint: Review the act method in the TreasureMaze.py class.\n",
    "            \n",
    "            envstate, reward, game_status = qmaze.act(move)\n",
    "            \n",
    "            # episode = [previous_envstate, action, reward, envstate, game_status]\n",
    "            #        Store episode in Experience replay object\n",
    "            #    Hint: Review the remember method in the GameExperience.py class.        \n",
    "            episode = [previous_envstate, move, reward, envstate, game_status]\n",
    "            n_episodes = n_episodes + 1\n",
    "            experience.remember(episode)\n",
    "            \n",
    "                \n",
    "            # Train neural network model and evaluate loss\n",
    "            #  Hint: Call GameExperience.get_data to retrieve training data (input and target) and pass to model.fit method \n",
    "            #        to train the model. You can call model.evaluate to determine loss.\n",
    "            input_data, target_data = experience.get_data(data_size) \n",
    "                                \n",
    "            model.fit(\n",
    "                input_data,\n",
    "                target_data,\n",
    "                epochs = 8, \n",
    "                #epochs = 24,\n",
    "                batch_size = 16,\n",
    "                verbose = 0\n",
    "                )\n",
    "                       \n",
    "            loss = model.evaluate(input_data, target_data, verbose = 0)\n",
    "            \n",
    "            \n",
    "            if (game_status == \"lose\"):\n",
    "                win_history.append(0)\n",
    "                game_over = True\n",
    "            elif (game_status == \"win\"):\n",
    "                win_history.append(1)\n",
    "                game_over = True\n",
    "            else:\n",
    "                game_over = False\n",
    "                                \n",
    "            #while loop should end here\n",
    "        \n",
    "        epoch = epoch + 1\n",
    "            #    If the win rate is above the threshold and your model passes the completion check, that would be your epoch.\n",
    "        if (len(win_history) > 0):\n",
    "            win_rate = sum(win_history) / len(win_history)\n",
    "        \n",
    "        # EXP decay\n",
    "        if exp_rate > EXP_MIN:\n",
    "            exp_rate = exp_rate * EXP_DECAY\n",
    "\n",
    "        #Print the epoch, loss, episodes, win count, and win rate for each epoch\n",
    "        dt = datetime.datetime.now() - start_time\n",
    "        t = format_time(dt.total_seconds())\n",
    "        template = \"Epoch: {:03d}/{:d} | Loss: {:.4f} | Episodes: {:d} | Win count: {:d} | Win rate: {:.3f} | time: {}\"\n",
    "        print(template.format(epoch, n_epoch-1, loss, n_episodes, sum(win_history), win_rate, t))\n",
    "        # We simply check if training has exhausted all free cells and if in all\n",
    "        # cases the agent won.\n",
    "        if win_rate > 0.9 : epsilon = 0.05\n",
    "        if sum(win_history[-hsize:]) == hsize and completion_check(model, qmaze):\n",
    "            print(\"Reached 100%% win rate at epoch: %d\" % (epoch,))\n",
    "            break\n",
    "    \n",
    "    \n",
    "    # Determine the total time for training\n",
    "    dt = datetime.datetime.now() - start_time\n",
    "    seconds = dt.total_seconds()\n",
    "    t = format_time(seconds)\n",
    "\n",
    "    print(\"n_epoch: %d, max_mem: %d, data: %d, time: %s\" % (epoch, max_memory, data_size, t))\n",
    "    return seconds\n",
    "\n",
    "# This is a small utility for printing readable time strings:\n",
    "def format_time(seconds):\n",
    "    if seconds < 400:\n",
    "        s = float(seconds)\n",
    "        return \"%.1f seconds\" % (s,)\n",
    "    elif seconds < 4000:\n",
    "        m = seconds / 60.0\n",
    "        return \"%.2f minutes\" % (m,)\n",
    "    else:\n",
    "        h = seconds / 3600.0\n",
    "        return \"%.2f hours\" % (h,)"
   ]
  },
  {
   "cell_type": "markdown",
   "metadata": {},
   "source": [
    "## Test Your Model\n",
    "\n",
    "Now we will start testing the deep Q-learning implementation. To begin, select **Cell**, then **Run All** from the menu bar. This will run your notebook. As it runs, you should see output begin to appear beneath the next few cells. The code below creates an instance of TreasureMaze."
   ]
  },
  {
   "cell_type": "code",
   "execution_count": 89,
   "metadata": {},
   "outputs": [
    {
     "data": {
      "text/plain": [
       "<matplotlib.image.AxesImage at 0x172ce5da348>"
      ]
     },
     "execution_count": 89,
     "metadata": {},
     "output_type": "execute_result"
    },
    {
     "data": {
      "image/png": "[encoded data removed]",
      "text/plain": [
       "<Figure size 432x288 with 1 Axes>"
      ]
     },
     "metadata": {
      "needs_background": "light"
     },
     "output_type": "display_data"
    }
   ],
   "source": [
    "qmaze = TreasureMaze(maze)\n",
    "show(qmaze)"
   ]
  },
  {
   "cell_type": "markdown",
   "metadata": {},
   "source": [
    "In the next code block, you will build your model and train it using deep Q-learning. Note: This step takes several minutes to fully run."
   ]
  },
  {
   "cell_type": "code",
   "execution_count": 90,
   "metadata": {},
   "outputs": [
    {
     "name": "stdout",
     "output_type": "stream",
     "text": [
      "Epoch: 001/14999 | Loss: 0.0000 | Episodes: 137 | Win count: 0 | Win rate: 0.000 | time: 12.0 seconds\n",
      "Epoch: 002/14999 | Loss: 0.0000 | Episodes: 139 | Win count: 0 | Win rate: 0.000 | time: 24.3 seconds\n",
      "Epoch: 003/14999 | Loss: 0.0001 | Episodes: 139 | Win count: 0 | Win rate: 0.000 | time: 38.2 seconds\n",
      "Epoch: 004/14999 | Loss: 0.0009 | Episodes: 141 | Win count: 0 | Win rate: 0.000 | time: 52.5 seconds\n",
      "Epoch: 005/14999 | Loss: 0.0011 | Episodes: 143 | Win count: 0 | Win rate: 0.000 | time: 65.6 seconds\n",
      "Epoch: 006/14999 | Loss: 0.0007 | Episodes: 141 | Win count: 0 | Win rate: 0.000 | time: 79.5 seconds\n",
      "Epoch: 007/14999 | Loss: 0.0006 | Episodes: 149 | Win count: 0 | Win rate: 0.000 | time: 94.2 seconds\n",
      "Epoch: 008/14999 | Loss: 0.0002 | Episodes: 146 | Win count: 0 | Win rate: 0.000 | time: 110.3 seconds\n",
      "Epoch: 009/14999 | Loss: 0.0011 | Episodes: 149 | Win count: 0 | Win rate: 0.000 | time: 126.3 seconds\n",
      "Epoch: 010/14999 | Loss: 0.0007 | Episodes: 152 | Win count: 0 | Win rate: 0.000 | time: 141.5 seconds\n",
      "Epoch: 011/14999 | Loss: 0.0007 | Episodes: 87 | Win count: 1 | Win rate: 0.091 | time: 150.7 seconds\n",
      "Epoch: 012/14999 | Loss: 0.0094 | Episodes: 57 | Win count: 2 | Win rate: 0.167 | time: 156.2 seconds\n",
      "Epoch: 013/14999 | Loss: 0.0006 | Episodes: 80 | Win count: 3 | Win rate: 0.231 | time: 165.0 seconds\n",
      "Epoch: 014/14999 | Loss: 0.0005 | Episodes: 139 | Win count: 3 | Win rate: 0.214 | time: 179.5 seconds\n",
      "Epoch: 015/14999 | Loss: 0.0005 | Episodes: 104 | Win count: 4 | Win rate: 0.267 | time: 190.2 seconds\n",
      "Epoch: 016/14999 | Loss: 0.0005 | Episodes: 71 | Win count: 5 | Win rate: 0.312 | time: 197.6 seconds\n",
      "Epoch: 017/14999 | Loss: 0.0007 | Episodes: 32 | Win count: 6 | Win rate: 0.353 | time: 200.9 seconds\n",
      "Epoch: 018/14999 | Loss: 0.0006 | Episodes: 108 | Win count: 7 | Win rate: 0.389 | time: 211.9 seconds\n",
      "Epoch: 019/14999 | Loss: 0.0009 | Episodes: 44 | Win count: 8 | Win rate: 0.421 | time: 217.1 seconds\n",
      "Epoch: 020/14999 | Loss: 0.0005 | Episodes: 30 | Win count: 9 | Win rate: 0.450 | time: 220.5 seconds\n",
      "Epoch: 021/14999 | Loss: 0.0004 | Episodes: 34 | Win count: 10 | Win rate: 0.476 | time: 224.0 seconds\n",
      "Epoch: 022/14999 | Loss: 0.0009 | Episodes: 34 | Win count: 11 | Win rate: 0.500 | time: 227.4 seconds\n",
      "Epoch: 023/14999 | Loss: 0.0009 | Episodes: 32 | Win count: 12 | Win rate: 0.522 | time: 230.8 seconds\n",
      "Epoch: 024/14999 | Loss: 0.0005 | Episodes: 36 | Win count: 13 | Win rate: 0.542 | time: 234.9 seconds\n",
      "Epoch: 025/14999 | Loss: 0.0006 | Episodes: 30 | Win count: 14 | Win rate: 0.560 | time: 238.4 seconds\n",
      "Epoch: 026/14999 | Loss: 0.0005 | Episodes: 30 | Win count: 15 | Win rate: 0.577 | time: 241.5 seconds\n",
      "Epoch: 027/14999 | Loss: 0.0004 | Episodes: 26 | Win count: 16 | Win rate: 0.593 | time: 244.6 seconds\n",
      "Epoch: 028/14999 | Loss: 0.0002 | Episodes: 30 | Win count: 17 | Win rate: 0.607 | time: 247.9 seconds\n",
      "Epoch: 029/14999 | Loss: 0.0003 | Episodes: 31 | Win count: 18 | Win rate: 0.621 | time: 251.2 seconds\n",
      "Epoch: 030/14999 | Loss: 0.0001 | Episodes: 30 | Win count: 19 | Win rate: 0.633 | time: 254.3 seconds\n",
      "Epoch: 031/14999 | Loss: 0.0003 | Episodes: 39 | Win count: 20 | Win rate: 0.645 | time: 257.5 seconds\n",
      "Epoch: 032/14999 | Loss: 0.0004 | Episodes: 28 | Win count: 21 | Win rate: 0.656 | time: 259.9 seconds\n",
      "Epoch: 033/14999 | Loss: 0.0001 | Episodes: 50 | Win count: 22 | Win rate: 0.667 | time: 264.7 seconds\n",
      "Epoch: 034/14999 | Loss: 0.0005 | Episodes: 69 | Win count: 23 | Win rate: 0.676 | time: 270.8 seconds\n",
      "Epoch: 035/14999 | Loss: 0.0005 | Episodes: 26 | Win count: 24 | Win rate: 0.686 | time: 273.4 seconds\n",
      "Epoch: 036/14999 | Loss: 0.0004 | Episodes: 26 | Win count: 25 | Win rate: 0.694 | time: 276.0 seconds\n",
      "Epoch: 037/14999 | Loss: 0.0002 | Episodes: 26 | Win count: 26 | Win rate: 0.703 | time: 278.3 seconds\n",
      "Epoch: 038/14999 | Loss: 0.0003 | Episodes: 28 | Win count: 27 | Win rate: 0.711 | time: 281.3 seconds\n",
      "Epoch: 039/14999 | Loss: 0.0002 | Episodes: 32 | Win count: 28 | Win rate: 0.718 | time: 284.4 seconds\n",
      "Epoch: 040/14999 | Loss: 0.0001 | Episodes: 32 | Win count: 29 | Win rate: 0.725 | time: 287.1 seconds\n",
      "Epoch: 041/14999 | Loss: 0.0000 | Episodes: 32 | Win count: 30 | Win rate: 0.732 | time: 290.6 seconds\n",
      "Epoch: 042/14999 | Loss: 0.0002 | Episodes: 26 | Win count: 31 | Win rate: 0.738 | time: 293.5 seconds\n",
      "Epoch: 043/14999 | Loss: 0.0001 | Episodes: 26 | Win count: 32 | Win rate: 0.744 | time: 296.5 seconds\n",
      "Epoch: 044/14999 | Loss: 0.0001 | Episodes: 28 | Win count: 33 | Win rate: 0.750 | time: 299.8 seconds\n",
      "Epoch: 045/14999 | Loss: 0.0001 | Episodes: 30 | Win count: 34 | Win rate: 0.756 | time: 303.1 seconds\n",
      "Epoch: 046/14999 | Loss: 0.0005 | Episodes: 28 | Win count: 35 | Win rate: 0.761 | time: 305.7 seconds\n",
      "Epoch: 047/14999 | Loss: 0.0004 | Episodes: 26 | Win count: 36 | Win rate: 0.766 | time: 309.0 seconds\n",
      "Epoch: 048/14999 | Loss: 0.0005 | Episodes: 26 | Win count: 37 | Win rate: 0.771 | time: 312.1 seconds\n",
      "Epoch: 049/14999 | Loss: 0.0000 | Episodes: 26 | Win count: 38 | Win rate: 0.776 | time: 315.1 seconds\n",
      "Epoch: 050/14999 | Loss: 0.0000 | Episodes: 28 | Win count: 39 | Win rate: 0.780 | time: 318.4 seconds\n",
      "Epoch: 051/14999 | Loss: 0.0003 | Episodes: 30 | Win count: 40 | Win rate: 0.784 | time: 322.1 seconds\n",
      "Epoch: 052/14999 | Loss: 0.0002 | Episodes: 32 | Win count: 41 | Win rate: 0.788 | time: 325.4 seconds\n",
      "Epoch: 053/14999 | Loss: 0.0003 | Episodes: 32 | Win count: 42 | Win rate: 0.792 | time: 328.9 seconds\n",
      "Epoch: 054/14999 | Loss: 0.0001 | Episodes: 30 | Win count: 43 | Win rate: 0.796 | time: 332.0 seconds\n",
      "Epoch: 055/14999 | Loss: 0.0001 | Episodes: 138 | Win count: 43 | Win rate: 0.782 | time: 346.5 seconds\n",
      "Epoch: 056/14999 | Loss: 0.0001 | Episodes: 26 | Win count: 44 | Win rate: 0.786 | time: 349.1 seconds\n",
      "Epoch: 057/14999 | Loss: 0.0003 | Episodes: 139 | Win count: 44 | Win rate: 0.772 | time: 363.8 seconds\n",
      "Epoch: 058/14999 | Loss: 0.0004 | Episodes: 26 | Win count: 45 | Win rate: 0.776 | time: 366.5 seconds\n",
      "Epoch: 059/14999 | Loss: 0.0001 | Episodes: 29 | Win count: 46 | Win rate: 0.780 | time: 369.4 seconds\n",
      "Epoch: 060/14999 | Loss: 0.0000 | Episodes: 26 | Win count: 47 | Win rate: 0.783 | time: 372.2 seconds\n",
      "Epoch: 061/14999 | Loss: 0.0002 | Episodes: 26 | Win count: 48 | Win rate: 0.787 | time: 375.2 seconds\n",
      "Epoch: 062/14999 | Loss: 0.0001 | Episodes: 28 | Win count: 49 | Win rate: 0.790 | time: 378.3 seconds\n",
      "Epoch: 063/14999 | Loss: 0.0001 | Episodes: 147 | Win count: 50 | Win rate: 0.794 | time: 393.5 seconds\n",
      "Epoch: 064/14999 | Loss: 0.0001 | Episodes: 28 | Win count: 51 | Win rate: 0.797 | time: 396.5 seconds\n",
      "Epoch: 065/14999 | Loss: 0.0001 | Episodes: 28 | Win count: 52 | Win rate: 0.800 | time: 399.6 seconds\n",
      "Epoch: 066/14999 | Loss: 0.0006 | Episodes: 28 | Win count: 53 | Win rate: 0.803 | time: 6.71 minutes\n",
      "Epoch: 067/14999 | Loss: 0.0001 | Episodes: 30 | Win count: 54 | Win rate: 0.806 | time: 6.76 minutes\n",
      "Epoch: 068/14999 | Loss: 0.0006 | Episodes: 26 | Win count: 55 | Win rate: 0.809 | time: 6.81 minutes\n",
      "Epoch: 069/14999 | Loss: 0.0001 | Episodes: 31 | Win count: 56 | Win rate: 0.812 | time: 6.86 minutes\n",
      "Epoch: 070/14999 | Loss: 0.0000 | Episodes: 30 | Win count: 57 | Win rate: 0.814 | time: 6.92 minutes\n",
      "Epoch: 071/14999 | Loss: 0.0001 | Episodes: 30 | Win count: 58 | Win rate: 0.817 | time: 6.97 minutes\n",
      "Epoch: 072/14999 | Loss: 0.0003 | Episodes: 31 | Win count: 59 | Win rate: 0.819 | time: 7.03 minutes\n",
      "Epoch: 073/14999 | Loss: 0.0001 | Episodes: 32 | Win count: 60 | Win rate: 0.822 | time: 7.09 minutes\n",
      "Epoch: 074/14999 | Loss: 0.0001 | Episodes: 35 | Win count: 61 | Win rate: 0.824 | time: 7.15 minutes\n",
      "Epoch: 075/14999 | Loss: 0.0006 | Episodes: 38 | Win count: 62 | Win rate: 0.827 | time: 7.22 minutes\n",
      "Epoch: 076/14999 | Loss: 0.0001 | Episodes: 26 | Win count: 63 | Win rate: 0.829 | time: 7.26 minutes\n",
      "Epoch: 077/14999 | Loss: 0.0007 | Episodes: 28 | Win count: 64 | Win rate: 0.831 | time: 7.31 minutes\n",
      "Epoch: 078/14999 | Loss: 0.0002 | Episodes: 26 | Win count: 65 | Win rate: 0.833 | time: 7.36 minutes\n",
      "Epoch: 079/14999 | Loss: 0.0004 | Episodes: 26 | Win count: 66 | Win rate: 0.835 | time: 7.40 minutes\n",
      "Epoch: 080/14999 | Loss: 0.0000 | Episodes: 28 | Win count: 67 | Win rate: 0.838 | time: 7.46 minutes\n"
     ]
    },
    {
     "name": "stdout",
     "output_type": "stream",
     "text": [
      "Epoch: 081/14999 | Loss: 0.0000 | Episodes: 27 | Win count: 68 | Win rate: 0.840 | time: 7.50 minutes\n",
      "Epoch: 082/14999 | Loss: 0.0000 | Episodes: 28 | Win count: 69 | Win rate: 0.841 | time: 7.55 minutes\n",
      "Epoch: 083/14999 | Loss: 0.0000 | Episodes: 26 | Win count: 70 | Win rate: 0.843 | time: 7.59 minutes\n",
      "Epoch: 084/14999 | Loss: 0.0004 | Episodes: 26 | Win count: 71 | Win rate: 0.845 | time: 7.64 minutes\n",
      "Epoch: 085/14999 | Loss: 0.0001 | Episodes: 26 | Win count: 72 | Win rate: 0.847 | time: 7.68 minutes\n",
      "Epoch: 086/14999 | Loss: 0.0000 | Episodes: 26 | Win count: 73 | Win rate: 0.849 | time: 7.74 minutes\n",
      "Epoch: 087/14999 | Loss: 0.0002 | Episodes: 26 | Win count: 74 | Win rate: 0.851 | time: 7.78 minutes\n",
      "Epoch: 088/14999 | Loss: 0.0003 | Episodes: 26 | Win count: 75 | Win rate: 0.852 | time: 7.83 minutes\n",
      "Epoch: 089/14999 | Loss: 0.0003 | Episodes: 30 | Win count: 76 | Win rate: 0.854 | time: 7.88 minutes\n",
      "Epoch: 090/14999 | Loss: 0.0005 | Episodes: 26 | Win count: 77 | Win rate: 0.856 | time: 7.93 minutes\n",
      "Epoch: 091/14999 | Loss: 0.0001 | Episodes: 24 | Win count: 78 | Win rate: 0.857 | time: 7.98 minutes\n",
      "Epoch: 092/14999 | Loss: 0.0003 | Episodes: 26 | Win count: 79 | Win rate: 0.859 | time: 8.03 minutes\n",
      "Epoch: 093/14999 | Loss: 0.0001 | Episodes: 26 | Win count: 80 | Win rate: 0.860 | time: 8.08 minutes\n",
      "Epoch: 094/14999 | Loss: 0.0000 | Episodes: 28 | Win count: 81 | Win rate: 0.862 | time: 8.13 minutes\n",
      "Epoch: 095/14999 | Loss: 0.0000 | Episodes: 26 | Win count: 82 | Win rate: 0.863 | time: 8.18 minutes\n",
      "Epoch: 096/14999 | Loss: 0.0000 | Episodes: 57 | Win count: 83 | Win rate: 0.865 | time: 8.29 minutes\n",
      "Epoch: 097/14999 | Loss: 0.0001 | Episodes: 26 | Win count: 84 | Win rate: 0.866 | time: 8.34 minutes\n",
      "Epoch: 098/14999 | Loss: 0.0000 | Episodes: 35 | Win count: 85 | Win rate: 0.867 | time: 8.41 minutes\n",
      "Epoch: 099/14999 | Loss: 0.0000 | Episodes: 26 | Win count: 86 | Win rate: 0.869 | time: 8.46 minutes\n",
      "Epoch: 100/14999 | Loss: 0.0003 | Episodes: 26 | Win count: 87 | Win rate: 0.870 | time: 8.51 minutes\n",
      "Epoch: 101/14999 | Loss: 0.0003 | Episodes: 26 | Win count: 88 | Win rate: 0.871 | time: 8.56 minutes\n",
      "Epoch: 102/14999 | Loss: 0.0001 | Episodes: 26 | Win count: 89 | Win rate: 0.873 | time: 8.61 minutes\n",
      "Epoch: 103/14999 | Loss: 0.0003 | Episodes: 26 | Win count: 90 | Win rate: 0.874 | time: 8.66 minutes\n",
      "Epoch: 104/14999 | Loss: 0.0000 | Episodes: 28 | Win count: 91 | Win rate: 0.875 | time: 8.71 minutes\n",
      "Epoch: 105/14999 | Loss: 0.0000 | Episodes: 26 | Win count: 92 | Win rate: 0.876 | time: 8.75 minutes\n",
      "Epoch: 106/14999 | Loss: 0.0001 | Episodes: 26 | Win count: 93 | Win rate: 0.877 | time: 8.80 minutes\n",
      "Epoch: 107/14999 | Loss: 0.0001 | Episodes: 26 | Win count: 94 | Win rate: 0.879 | time: 8.85 minutes\n",
      "Epoch: 108/14999 | Loss: 0.0112 | Episodes: 24 | Win count: 95 | Win rate: 0.880 | time: 8.90 minutes\n",
      "Epoch: 109/14999 | Loss: 0.0004 | Episodes: 31 | Win count: 96 | Win rate: 0.881 | time: 8.96 minutes\n",
      "Epoch: 110/14999 | Loss: 0.0003 | Episodes: 28 | Win count: 97 | Win rate: 0.882 | time: 9.02 minutes\n",
      "Epoch: 111/14999 | Loss: 0.0001 | Episodes: 26 | Win count: 98 | Win rate: 0.883 | time: 9.07 minutes\n",
      "Epoch: 112/14999 | Loss: 0.0001 | Episodes: 28 | Win count: 99 | Win rate: 0.884 | time: 9.12 minutes\n",
      "Epoch: 113/14999 | Loss: 0.0003 | Episodes: 26 | Win count: 100 | Win rate: 0.885 | time: 9.17 minutes\n",
      "Epoch: 114/14999 | Loss: 0.0000 | Episodes: 26 | Win count: 101 | Win rate: 0.886 | time: 9.22 minutes\n",
      "Epoch: 115/14999 | Loss: 0.0001 | Episodes: 26 | Win count: 102 | Win rate: 0.887 | time: 9.27 minutes\n",
      "Epoch: 116/14999 | Loss: 0.0000 | Episodes: 26 | Win count: 103 | Win rate: 0.888 | time: 9.32 minutes\n",
      "Epoch: 117/14999 | Loss: 0.0000 | Episodes: 24 | Win count: 104 | Win rate: 0.889 | time: 9.36 minutes\n",
      "Epoch: 118/14999 | Loss: 0.0002 | Episodes: 30 | Win count: 105 | Win rate: 0.890 | time: 9.41 minutes\n",
      "Epoch: 119/14999 | Loss: 0.0001 | Episodes: 26 | Win count: 106 | Win rate: 0.891 | time: 9.45 minutes\n",
      "Epoch: 120/14999 | Loss: 0.0000 | Episodes: 26 | Win count: 107 | Win rate: 0.892 | time: 9.50 minutes\n",
      "Epoch: 121/14999 | Loss: 0.0002 | Episodes: 26 | Win count: 108 | Win rate: 0.893 | time: 9.54 minutes\n",
      "Epoch: 122/14999 | Loss: 0.0000 | Episodes: 24 | Win count: 109 | Win rate: 0.893 | time: 9.58 minutes\n",
      "Epoch: 123/14999 | Loss: 0.0002 | Episodes: 24 | Win count: 110 | Win rate: 0.894 | time: 9.63 minutes\n",
      "Epoch: 124/14999 | Loss: 0.0000 | Episodes: 30 | Win count: 111 | Win rate: 0.895 | time: 9.68 minutes\n",
      "Epoch: 125/14999 | Loss: 0.0000 | Episodes: 24 | Win count: 112 | Win rate: 0.896 | time: 9.73 minutes\n",
      "Epoch: 126/14999 | Loss: 0.0000 | Episodes: 26 | Win count: 113 | Win rate: 0.897 | time: 9.78 minutes\n",
      "Epoch: 127/14999 | Loss: 0.0000 | Episodes: 32 | Win count: 114 | Win rate: 0.898 | time: 9.85 minutes\n",
      "Epoch: 128/14999 | Loss: 0.0000 | Episodes: 26 | Win count: 115 | Win rate: 0.898 | time: 9.90 minutes\n",
      "Epoch: 129/14999 | Loss: 0.0003 | Episodes: 24 | Win count: 116 | Win rate: 0.899 | time: 9.94 minutes\n",
      "Epoch: 130/14999 | Loss: 0.0003 | Episodes: 28 | Win count: 117 | Win rate: 0.900 | time: 9.99 minutes\n",
      "Epoch: 131/14999 | Loss: 0.0001 | Episodes: 26 | Win count: 118 | Win rate: 0.901 | time: 10.04 minutes\n",
      "Epoch: 132/14999 | Loss: 0.0002 | Episodes: 28 | Win count: 119 | Win rate: 0.902 | time: 10.09 minutes\n",
      "Epoch: 133/14999 | Loss: 0.0000 | Episodes: 24 | Win count: 120 | Win rate: 0.902 | time: 10.14 minutes\n",
      "Epoch: 134/14999 | Loss: 0.0005 | Episodes: 28 | Win count: 121 | Win rate: 0.903 | time: 10.19 minutes\n",
      "Epoch: 135/14999 | Loss: 0.0000 | Episodes: 24 | Win count: 122 | Win rate: 0.904 | time: 10.24 minutes\n",
      "Epoch: 136/14999 | Loss: 0.0003 | Episodes: 32 | Win count: 123 | Win rate: 0.904 | time: 10.29 minutes\n",
      "Epoch: 137/14999 | Loss: 0.0003 | Episodes: 32 | Win count: 124 | Win rate: 0.905 | time: 10.35 minutes\n",
      "Epoch: 138/14999 | Loss: 0.0000 | Episodes: 24 | Win count: 125 | Win rate: 0.906 | time: 10.39 minutes\n",
      "Epoch: 139/14999 | Loss: 0.0000 | Episodes: 24 | Win count: 126 | Win rate: 0.906 | time: 10.44 minutes\n",
      "Epoch: 140/14999 | Loss: 0.0000 | Episodes: 32 | Win count: 127 | Win rate: 0.907 | time: 10.50 minutes\n",
      "Epoch: 141/14999 | Loss: 0.0000 | Episodes: 24 | Win count: 128 | Win rate: 0.908 | time: 10.55 minutes\n",
      "Epoch: 142/14999 | Loss: 0.0000 | Episodes: 63 | Win count: 129 | Win rate: 0.908 | time: 10.66 minutes\n",
      "Epoch: 143/14999 | Loss: 0.0002 | Episodes: 34 | Win count: 130 | Win rate: 0.909 | time: 10.72 minutes\n",
      "Epoch: 144/14999 | Loss: 0.0001 | Episodes: 29 | Win count: 131 | Win rate: 0.910 | time: 10.78 minutes\n",
      "Epoch: 145/14999 | Loss: 0.0001 | Episodes: 33 | Win count: 132 | Win rate: 0.910 | time: 10.84 minutes\n",
      "Epoch: 146/14999 | Loss: 0.0000 | Episodes: 26 | Win count: 133 | Win rate: 0.911 | time: 10.90 minutes\n",
      "Epoch: 147/14999 | Loss: 0.0003 | Episodes: 30 | Win count: 134 | Win rate: 0.912 | time: 10.95 minutes\n",
      "Epoch: 148/14999 | Loss: 0.0000 | Episodes: 24 | Win count: 135 | Win rate: 0.912 | time: 10.99 minutes\n",
      "Epoch: 149/14999 | Loss: 0.0001 | Episodes: 28 | Win count: 136 | Win rate: 0.913 | time: 11.04 minutes\n",
      "Epoch: 150/14999 | Loss: 0.0000 | Episodes: 32 | Win count: 137 | Win rate: 0.913 | time: 11.10 minutes\n",
      "Epoch: 151/14999 | Loss: 0.0003 | Episodes: 30 | Win count: 138 | Win rate: 0.914 | time: 11.16 minutes\n",
      "Epoch: 152/14999 | Loss: 0.0000 | Episodes: 26 | Win count: 139 | Win rate: 0.914 | time: 11.20 minutes\n",
      "Epoch: 153/14999 | Loss: 0.0000 | Episodes: 24 | Win count: 140 | Win rate: 0.915 | time: 11.24 minutes\n",
      "Epoch: 154/14999 | Loss: 0.0003 | Episodes: 32 | Win count: 141 | Win rate: 0.916 | time: 11.30 minutes\n",
      "Epoch: 155/14999 | Loss: 0.0000 | Episodes: 29 | Win count: 142 | Win rate: 0.916 | time: 11.34 minutes\n",
      "Epoch: 156/14999 | Loss: 0.0002 | Episodes: 26 | Win count: 143 | Win rate: 0.917 | time: 11.39 minutes\n",
      "Epoch: 157/14999 | Loss: 0.0000 | Episodes: 26 | Win count: 144 | Win rate: 0.917 | time: 11.44 minutes\n",
      "Epoch: 158/14999 | Loss: 0.0001 | Episodes: 26 | Win count: 145 | Win rate: 0.918 | time: 11.49 minutes\n",
      "Epoch: 159/14999 | Loss: 0.0000 | Episodes: 26 | Win count: 146 | Win rate: 0.918 | time: 11.55 minutes\n",
      "Epoch: 160/14999 | Loss: 0.0005 | Episodes: 30 | Win count: 147 | Win rate: 0.919 | time: 11.61 minutes\n"
     ]
    },
    {
     "name": "stdout",
     "output_type": "stream",
     "text": [
      "Epoch: 161/14999 | Loss: 0.0000 | Episodes: 32 | Win count: 148 | Win rate: 0.919 | time: 11.66 minutes\n",
      "Epoch: 162/14999 | Loss: 0.0000 | Episodes: 35 | Win count: 149 | Win rate: 0.920 | time: 11.73 minutes\n",
      "Epoch: 163/14999 | Loss: 0.0001 | Episodes: 32 | Win count: 150 | Win rate: 0.920 | time: 11.79 minutes\n",
      "Epoch: 164/14999 | Loss: 0.0000 | Episodes: 32 | Win count: 151 | Win rate: 0.921 | time: 11.85 minutes\n",
      "Epoch: 165/14999 | Loss: 0.0002 | Episodes: 34 | Win count: 152 | Win rate: 0.921 | time: 11.91 minutes\n",
      "Epoch: 166/14999 | Loss: 0.0007 | Episodes: 45 | Win count: 153 | Win rate: 0.922 | time: 12.00 minutes\n",
      "Epoch: 167/14999 | Loss: 0.0000 | Episodes: 26 | Win count: 154 | Win rate: 0.922 | time: 12.05 minutes\n",
      "Epoch: 168/14999 | Loss: 0.0005 | Episodes: 26 | Win count: 155 | Win rate: 0.923 | time: 12.10 minutes\n",
      "Epoch: 169/14999 | Loss: 0.0000 | Episodes: 32 | Win count: 156 | Win rate: 0.923 | time: 12.15 minutes\n",
      "Epoch: 170/14999 | Loss: 0.0003 | Episodes: 26 | Win count: 157 | Win rate: 0.924 | time: 12.21 minutes\n",
      "Epoch: 171/14999 | Loss: 0.0000 | Episodes: 26 | Win count: 158 | Win rate: 0.924 | time: 12.26 minutes\n",
      "Epoch: 172/14999 | Loss: 0.0001 | Episodes: 26 | Win count: 159 | Win rate: 0.924 | time: 12.29 minutes\n",
      "Epoch: 173/14999 | Loss: 0.0005 | Episodes: 26 | Win count: 160 | Win rate: 0.925 | time: 12.35 minutes\n",
      "Epoch: 174/14999 | Loss: 0.0000 | Episodes: 26 | Win count: 161 | Win rate: 0.925 | time: 12.40 minutes\n",
      "Epoch: 175/14999 | Loss: 0.0003 | Episodes: 29 | Win count: 162 | Win rate: 0.926 | time: 12.45 minutes\n",
      "Epoch: 176/14999 | Loss: 0.0000 | Episodes: 28 | Win count: 163 | Win rate: 0.926 | time: 12.50 minutes\n",
      "Epoch: 177/14999 | Loss: 0.0002 | Episodes: 34 | Win count: 164 | Win rate: 0.927 | time: 12.56 minutes\n",
      "Epoch: 178/14999 | Loss: 0.0000 | Episodes: 26 | Win count: 165 | Win rate: 0.927 | time: 12.61 minutes\n",
      "Epoch: 179/14999 | Loss: 0.0000 | Episodes: 26 | Win count: 166 | Win rate: 0.927 | time: 12.66 minutes\n",
      "Epoch: 180/14999 | Loss: 0.0000 | Episodes: 26 | Win count: 167 | Win rate: 0.928 | time: 12.71 minutes\n",
      "Epoch: 181/14999 | Loss: 0.0000 | Episodes: 24 | Win count: 168 | Win rate: 0.928 | time: 12.75 minutes\n",
      "Epoch: 182/14999 | Loss: 0.0000 | Episodes: 24 | Win count: 169 | Win rate: 0.929 | time: 12.80 minutes\n",
      "Epoch: 183/14999 | Loss: 0.0000 | Episodes: 32 | Win count: 170 | Win rate: 0.929 | time: 12.87 minutes\n",
      "Epoch: 184/14999 | Loss: 0.0000 | Episodes: 28 | Win count: 171 | Win rate: 0.929 | time: 12.92 minutes\n",
      "Epoch: 185/14999 | Loss: 0.0000 | Episodes: 34 | Win count: 172 | Win rate: 0.930 | time: 12.99 minutes\n",
      "Epoch: 186/14999 | Loss: 0.0000 | Episodes: 32 | Win count: 173 | Win rate: 0.930 | time: 13.05 minutes\n",
      "Epoch: 187/14999 | Loss: 0.0000 | Episodes: 24 | Win count: 174 | Win rate: 0.930 | time: 13.10 minutes\n",
      "Epoch: 188/14999 | Loss: 0.0000 | Episodes: 24 | Win count: 175 | Win rate: 0.931 | time: 13.16 minutes\n",
      "Epoch: 189/14999 | Loss: 0.0000 | Episodes: 26 | Win count: 176 | Win rate: 0.931 | time: 13.20 minutes\n",
      "Epoch: 190/14999 | Loss: 0.0000 | Episodes: 32 | Win count: 177 | Win rate: 0.932 | time: 13.26 minutes\n",
      "Epoch: 191/14999 | Loss: 0.0000 | Episodes: 24 | Win count: 178 | Win rate: 0.932 | time: 13.30 minutes\n",
      "Epoch: 192/14999 | Loss: 0.0000 | Episodes: 28 | Win count: 179 | Win rate: 0.932 | time: 13.35 minutes\n",
      "Epoch: 193/14999 | Loss: 0.0000 | Episodes: 27 | Win count: 180 | Win rate: 0.933 | time: 13.39 minutes\n",
      "Epoch: 194/14999 | Loss: 0.0003 | Episodes: 28 | Win count: 181 | Win rate: 0.933 | time: 13.44 minutes\n",
      "Epoch: 195/14999 | Loss: 0.0000 | Episodes: 26 | Win count: 182 | Win rate: 0.933 | time: 13.49 minutes\n",
      "Epoch: 196/14999 | Loss: 0.0000 | Episodes: 26 | Win count: 183 | Win rate: 0.934 | time: 13.53 minutes\n",
      "Epoch: 197/14999 | Loss: 0.0000 | Episodes: 26 | Win count: 184 | Win rate: 0.934 | time: 13.58 minutes\n",
      "Epoch: 198/14999 | Loss: 0.0000 | Episodes: 24 | Win count: 185 | Win rate: 0.934 | time: 13.63 minutes\n",
      "Epoch: 199/14999 | Loss: 0.0000 | Episodes: 30 | Win count: 186 | Win rate: 0.935 | time: 13.70 minutes\n",
      "Epoch: 200/14999 | Loss: 0.0000 | Episodes: 24 | Win count: 187 | Win rate: 0.935 | time: 13.74 minutes\n",
      "Epoch: 201/14999 | Loss: 0.0000 | Episodes: 24 | Win count: 188 | Win rate: 0.935 | time: 13.78 minutes\n",
      "Epoch: 202/14999 | Loss: 0.0000 | Episodes: 26 | Win count: 189 | Win rate: 0.936 | time: 13.83 minutes\n",
      "Epoch: 203/14999 | Loss: 0.0001 | Episodes: 36 | Win count: 190 | Win rate: 0.936 | time: 13.90 minutes\n",
      "Epoch: 204/14999 | Loss: 0.0000 | Episodes: 30 | Win count: 191 | Win rate: 0.936 | time: 13.96 minutes\n",
      "Epoch: 205/14999 | Loss: 0.0000 | Episodes: 34 | Win count: 192 | Win rate: 0.937 | time: 14.02 minutes\n",
      "Epoch: 206/14999 | Loss: 0.0000 | Episodes: 28 | Win count: 193 | Win rate: 0.937 | time: 14.08 minutes\n",
      "Epoch: 207/14999 | Loss: 0.0000 | Episodes: 30 | Win count: 194 | Win rate: 0.937 | time: 14.14 minutes\n",
      "Epoch: 208/14999 | Loss: 0.0000 | Episodes: 28 | Win count: 195 | Win rate: 0.938 | time: 14.20 minutes\n",
      "Epoch: 209/14999 | Loss: 0.0002 | Episodes: 36 | Win count: 196 | Win rate: 0.938 | time: 14.26 minutes\n",
      "Epoch: 210/14999 | Loss: 0.0000 | Episodes: 26 | Win count: 197 | Win rate: 0.938 | time: 14.31 minutes\n",
      "Epoch: 211/14999 | Loss: 0.0000 | Episodes: 26 | Win count: 198 | Win rate: 0.938 | time: 14.36 minutes\n",
      "Epoch: 212/14999 | Loss: 0.0000 | Episodes: 29 | Win count: 199 | Win rate: 0.939 | time: 14.41 minutes\n",
      "Epoch: 213/14999 | Loss: 0.0005 | Episodes: 28 | Win count: 200 | Win rate: 0.939 | time: 14.46 minutes\n",
      "Epoch: 214/14999 | Loss: 0.0003 | Episodes: 26 | Win count: 201 | Win rate: 0.939 | time: 14.51 minutes\n",
      "Epoch: 215/14999 | Loss: 0.0000 | Episodes: 34 | Win count: 202 | Win rate: 0.940 | time: 14.56 minutes\n",
      "Epoch: 216/14999 | Loss: 0.0000 | Episodes: 30 | Win count: 203 | Win rate: 0.940 | time: 14.62 minutes\n",
      "Epoch: 217/14999 | Loss: 0.0000 | Episodes: 25 | Win count: 204 | Win rate: 0.940 | time: 14.66 minutes\n",
      "Epoch: 218/14999 | Loss: 0.0000 | Episodes: 30 | Win count: 205 | Win rate: 0.940 | time: 14.70 minutes\n",
      "Epoch: 219/14999 | Loss: 0.0000 | Episodes: 26 | Win count: 206 | Win rate: 0.941 | time: 14.74 minutes\n",
      "Epoch: 220/14999 | Loss: 0.0000 | Episodes: 26 | Win count: 207 | Win rate: 0.941 | time: 14.79 minutes\n",
      "Epoch: 221/14999 | Loss: 0.0004 | Episodes: 26 | Win count: 208 | Win rate: 0.941 | time: 14.84 minutes\n",
      "Epoch: 222/14999 | Loss: 0.0003 | Episodes: 28 | Win count: 209 | Win rate: 0.941 | time: 14.89 minutes\n",
      "Epoch: 223/14999 | Loss: 0.0001 | Episodes: 26 | Win count: 210 | Win rate: 0.942 | time: 14.93 minutes\n",
      "Epoch: 224/14999 | Loss: 0.0003 | Episodes: 26 | Win count: 211 | Win rate: 0.942 | time: 14.99 minutes\n",
      "Epoch: 225/14999 | Loss: 0.0003 | Episodes: 26 | Win count: 212 | Win rate: 0.942 | time: 15.04 minutes\n",
      "Epoch: 226/14999 | Loss: 0.0000 | Episodes: 26 | Win count: 213 | Win rate: 0.942 | time: 15.09 minutes\n",
      "Epoch: 227/14999 | Loss: 0.0000 | Episodes: 28 | Win count: 214 | Win rate: 0.943 | time: 15.14 minutes\n",
      "Epoch: 228/14999 | Loss: 0.0000 | Episodes: 24 | Win count: 215 | Win rate: 0.943 | time: 15.19 minutes\n",
      "Epoch: 229/14999 | Loss: 0.0000 | Episodes: 30 | Win count: 216 | Win rate: 0.943 | time: 15.24 minutes\n",
      "Epoch: 230/14999 | Loss: 0.0000 | Episodes: 28 | Win count: 217 | Win rate: 0.943 | time: 15.29 minutes\n",
      "Epoch: 231/14999 | Loss: 0.0000 | Episodes: 26 | Win count: 218 | Win rate: 0.944 | time: 15.35 minutes\n",
      "Epoch: 232/14999 | Loss: 0.0000 | Episodes: 30 | Win count: 219 | Win rate: 0.944 | time: 15.41 minutes\n",
      "Epoch: 233/14999 | Loss: 0.0000 | Episodes: 28 | Win count: 220 | Win rate: 0.944 | time: 15.46 minutes\n",
      "Epoch: 234/14999 | Loss: 0.0001 | Episodes: 32 | Win count: 221 | Win rate: 0.944 | time: 15.52 minutes\n",
      "Epoch: 235/14999 | Loss: 0.0000 | Episodes: 32 | Win count: 222 | Win rate: 0.945 | time: 15.58 minutes\n",
      "Epoch: 236/14999 | Loss: 0.0002 | Episodes: 33 | Win count: 223 | Win rate: 0.945 | time: 15.64 minutes\n",
      "Epoch: 237/14999 | Loss: 0.0000 | Episodes: 24 | Win count: 224 | Win rate: 0.945 | time: 15.69 minutes\n",
      "Epoch: 238/14999 | Loss: 0.0000 | Episodes: 42 | Win count: 225 | Win rate: 0.945 | time: 15.76 minutes\n",
      "Epoch: 239/14999 | Loss: 0.0000 | Episodes: 26 | Win count: 226 | Win rate: 0.946 | time: 15.81 minutes\n"
     ]
    },
    {
     "name": "stdout",
     "output_type": "stream",
     "text": [
      "Epoch: 240/14999 | Loss: 0.0000 | Episodes: 28 | Win count: 227 | Win rate: 0.946 | time: 15.86 minutes\n",
      "Epoch: 241/14999 | Loss: 0.0000 | Episodes: 26 | Win count: 228 | Win rate: 0.946 | time: 15.91 minutes\n",
      "Epoch: 242/14999 | Loss: 0.0000 | Episodes: 28 | Win count: 229 | Win rate: 0.946 | time: 15.97 minutes\n",
      "Epoch: 243/14999 | Loss: 0.0000 | Episodes: 34 | Win count: 230 | Win rate: 0.947 | time: 16.03 minutes\n",
      "Epoch: 244/14999 | Loss: 0.0001 | Episodes: 35 | Win count: 231 | Win rate: 0.947 | time: 16.09 minutes\n",
      "Epoch: 245/14999 | Loss: 0.0000 | Episodes: 30 | Win count: 232 | Win rate: 0.947 | time: 16.14 minutes\n",
      "Epoch: 246/14999 | Loss: 0.0000 | Episodes: 26 | Win count: 233 | Win rate: 0.947 | time: 16.19 minutes\n",
      "Epoch: 247/14999 | Loss: 0.0001 | Episodes: 26 | Win count: 234 | Win rate: 0.947 | time: 16.24 minutes\n",
      "Epoch: 248/14999 | Loss: 0.0000 | Episodes: 26 | Win count: 235 | Win rate: 0.948 | time: 16.28 minutes\n",
      "Epoch: 249/14999 | Loss: 0.0000 | Episodes: 24 | Win count: 236 | Win rate: 0.948 | time: 16.32 minutes\n",
      "Epoch: 250/14999 | Loss: 0.0000 | Episodes: 26 | Win count: 237 | Win rate: 0.948 | time: 16.37 minutes\n",
      "Epoch: 251/14999 | Loss: 0.0000 | Episodes: 30 | Win count: 238 | Win rate: 0.948 | time: 16.43 minutes\n",
      "Epoch: 252/14999 | Loss: 0.0000 | Episodes: 124 | Win count: 239 | Win rate: 0.948 | time: 16.65 minutes\n",
      "Epoch: 253/14999 | Loss: 0.0000 | Episodes: 30 | Win count: 240 | Win rate: 0.949 | time: 16.70 minutes\n",
      "Epoch: 254/14999 | Loss: 0.0000 | Episodes: 30 | Win count: 241 | Win rate: 0.949 | time: 16.76 minutes\n",
      "Epoch: 255/14999 | Loss: 0.0000 | Episodes: 24 | Win count: 242 | Win rate: 0.949 | time: 16.80 minutes\n",
      "Epoch: 256/14999 | Loss: 0.0001 | Episodes: 32 | Win count: 243 | Win rate: 0.949 | time: 16.86 minutes\n",
      "Epoch: 257/14999 | Loss: 0.0000 | Episodes: 24 | Win count: 244 | Win rate: 0.949 | time: 16.90 minutes\n",
      "Epoch: 258/14999 | Loss: 0.0000 | Episodes: 24 | Win count: 245 | Win rate: 0.950 | time: 16.95 minutes\n",
      "Epoch: 259/14999 | Loss: 0.0000 | Episodes: 30 | Win count: 246 | Win rate: 0.950 | time: 17.02 minutes\n",
      "Epoch: 260/14999 | Loss: 0.0000 | Episodes: 32 | Win count: 247 | Win rate: 0.950 | time: 17.07 minutes\n",
      "Epoch: 261/14999 | Loss: 0.0000 | Episodes: 26 | Win count: 248 | Win rate: 0.950 | time: 17.11 minutes\n",
      "Epoch: 262/14999 | Loss: 0.0000 | Episodes: 24 | Win count: 249 | Win rate: 0.950 | time: 17.16 minutes\n",
      "Epoch: 263/14999 | Loss: 0.0000 | Episodes: 24 | Win count: 250 | Win rate: 0.951 | time: 17.20 minutes\n",
      "Epoch: 264/14999 | Loss: 0.0000 | Episodes: 29 | Win count: 251 | Win rate: 0.951 | time: 17.25 minutes\n",
      "Epoch: 265/14999 | Loss: 0.0000 | Episodes: 24 | Win count: 252 | Win rate: 0.951 | time: 17.30 minutes\n",
      "Epoch: 266/14999 | Loss: 0.0001 | Episodes: 30 | Win count: 253 | Win rate: 0.951 | time: 17.36 minutes\n",
      "Epoch: 267/14999 | Loss: 0.0000 | Episodes: 30 | Win count: 254 | Win rate: 0.951 | time: 17.42 minutes\n",
      "Epoch: 268/14999 | Loss: 0.0000 | Episodes: 28 | Win count: 255 | Win rate: 0.951 | time: 17.47 minutes\n",
      "Epoch: 269/14999 | Loss: 0.0000 | Episodes: 30 | Win count: 256 | Win rate: 0.952 | time: 17.54 minutes\n",
      "Epoch: 270/14999 | Loss: 0.0000 | Episodes: 32 | Win count: 257 | Win rate: 0.952 | time: 17.59 minutes\n",
      "Epoch: 271/14999 | Loss: 0.0000 | Episodes: 32 | Win count: 258 | Win rate: 0.952 | time: 17.65 minutes\n",
      "Epoch: 272/14999 | Loss: 0.0000 | Episodes: 36 | Win count: 259 | Win rate: 0.952 | time: 17.72 minutes\n",
      "Epoch: 273/14999 | Loss: 0.0000 | Episodes: 28 | Win count: 260 | Win rate: 0.952 | time: 17.77 minutes\n",
      "Epoch: 274/14999 | Loss: 0.0000 | Episodes: 26 | Win count: 261 | Win rate: 0.953 | time: 17.82 minutes\n",
      "Epoch: 275/14999 | Loss: 0.0000 | Episodes: 26 | Win count: 262 | Win rate: 0.953 | time: 17.87 minutes\n",
      "Epoch: 276/14999 | Loss: 0.0000 | Episodes: 32 | Win count: 263 | Win rate: 0.953 | time: 17.93 minutes\n",
      "Epoch: 277/14999 | Loss: 0.0000 | Episodes: 26 | Win count: 264 | Win rate: 0.953 | time: 17.97 minutes\n",
      "Epoch: 278/14999 | Loss: 0.0000 | Episodes: 30 | Win count: 265 | Win rate: 0.953 | time: 18.03 minutes\n",
      "Epoch: 279/14999 | Loss: 0.0000 | Episodes: 26 | Win count: 266 | Win rate: 0.953 | time: 18.08 minutes\n",
      "Epoch: 280/14999 | Loss: 0.0000 | Episodes: 26 | Win count: 267 | Win rate: 0.954 | time: 18.12 minutes\n",
      "Epoch: 281/14999 | Loss: 0.0000 | Episodes: 30 | Win count: 268 | Win rate: 0.954 | time: 18.18 minutes\n",
      "Epoch: 282/14999 | Loss: 0.0000 | Episodes: 61 | Win count: 269 | Win rate: 0.954 | time: 18.30 minutes\n",
      "Epoch: 283/14999 | Loss: 0.0000 | Episodes: 108 | Win count: 270 | Win rate: 0.954 | time: 18.48 minutes\n",
      "Epoch: 284/14999 | Loss: 0.0001 | Episodes: 28 | Win count: 271 | Win rate: 0.954 | time: 18.54 minutes\n",
      "Epoch: 285/14999 | Loss: 0.0000 | Episodes: 24 | Win count: 272 | Win rate: 0.954 | time: 18.58 minutes\n",
      "Epoch: 286/14999 | Loss: 0.0002 | Episodes: 28 | Win count: 273 | Win rate: 0.955 | time: 18.64 minutes\n",
      "Epoch: 287/14999 | Loss: 0.0001 | Episodes: 32 | Win count: 274 | Win rate: 0.955 | time: 18.71 minutes\n",
      "Epoch: 288/14999 | Loss: 0.0000 | Episodes: 24 | Win count: 275 | Win rate: 0.955 | time: 18.76 minutes\n",
      "Epoch: 289/14999 | Loss: 0.0001 | Episodes: 28 | Win count: 276 | Win rate: 0.955 | time: 18.81 minutes\n",
      "Epoch: 290/14999 | Loss: 0.0002 | Episodes: 24 | Win count: 277 | Win rate: 0.955 | time: 18.86 minutes\n",
      "Epoch: 291/14999 | Loss: 0.0000 | Episodes: 26 | Win count: 278 | Win rate: 0.955 | time: 18.91 minutes\n",
      "Epoch: 292/14999 | Loss: 0.0000 | Episodes: 30 | Win count: 279 | Win rate: 0.955 | time: 18.98 minutes\n",
      "Epoch: 293/14999 | Loss: 0.0000 | Episodes: 28 | Win count: 280 | Win rate: 0.956 | time: 19.03 minutes\n",
      "Epoch: 294/14999 | Loss: 0.0004 | Episodes: 28 | Win count: 281 | Win rate: 0.956 | time: 19.09 minutes\n",
      "Epoch: 295/14999 | Loss: 0.0003 | Episodes: 28 | Win count: 282 | Win rate: 0.956 | time: 19.14 minutes\n",
      "Epoch: 296/14999 | Loss: 0.0002 | Episodes: 28 | Win count: 283 | Win rate: 0.956 | time: 19.19 minutes\n",
      "Epoch: 297/14999 | Loss: 0.0004 | Episodes: 26 | Win count: 284 | Win rate: 0.956 | time: 19.24 minutes\n",
      "Epoch: 298/14999 | Loss: 0.0005 | Episodes: 36 | Win count: 285 | Win rate: 0.956 | time: 19.30 minutes\n",
      "Epoch: 299/14999 | Loss: 0.0001 | Episodes: 33 | Win count: 286 | Win rate: 0.957 | time: 19.34 minutes\n",
      "Epoch: 300/14999 | Loss: 0.0000 | Episodes: 26 | Win count: 287 | Win rate: 0.957 | time: 19.39 minutes\n",
      "Epoch: 301/14999 | Loss: 0.0003 | Episodes: 27 | Win count: 288 | Win rate: 0.957 | time: 19.44 minutes\n",
      "Epoch: 302/14999 | Loss: 0.0003 | Episodes: 26 | Win count: 289 | Win rate: 0.957 | time: 19.48 minutes\n",
      "Epoch: 303/14999 | Loss: 0.0004 | Episodes: 26 | Win count: 290 | Win rate: 0.957 | time: 19.53 minutes\n",
      "Epoch: 304/14999 | Loss: 0.0004 | Episodes: 38 | Win count: 291 | Win rate: 0.957 | time: 19.59 minutes\n",
      "Epoch: 305/14999 | Loss: 0.0001 | Episodes: 33 | Win count: 292 | Win rate: 0.957 | time: 19.64 minutes\n",
      "Epoch: 306/14999 | Loss: 0.0001 | Episodes: 24 | Win count: 293 | Win rate: 0.958 | time: 19.68 minutes\n",
      "Epoch: 307/14999 | Loss: 0.0003 | Episodes: 26 | Win count: 294 | Win rate: 0.958 | time: 19.72 minutes\n",
      "Epoch: 308/14999 | Loss: 0.0004 | Episodes: 38 | Win count: 295 | Win rate: 0.958 | time: 19.78 minutes\n",
      "Epoch: 309/14999 | Loss: 0.0000 | Episodes: 24 | Win count: 296 | Win rate: 0.958 | time: 19.82 minutes\n",
      "Epoch: 310/14999 | Loss: 0.0002 | Episodes: 24 | Win count: 297 | Win rate: 0.958 | time: 19.87 minutes\n",
      "Epoch: 311/14999 | Loss: 0.0003 | Episodes: 24 | Win count: 298 | Win rate: 0.958 | time: 19.91 minutes\n",
      "Epoch: 312/14999 | Loss: 0.0002 | Episodes: 38 | Win count: 299 | Win rate: 0.958 | time: 19.98 minutes\n",
      "Epoch: 313/14999 | Loss: 0.0004 | Episodes: 24 | Win count: 300 | Win rate: 0.958 | time: 20.03 minutes\n",
      "Epoch: 314/14999 | Loss: 0.0001 | Episodes: 24 | Win count: 301 | Win rate: 0.959 | time: 20.07 minutes\n",
      "Epoch: 315/14999 | Loss: 0.0000 | Episodes: 28 | Win count: 302 | Win rate: 0.959 | time: 20.13 minutes\n",
      "Epoch: 316/14999 | Loss: 0.0000 | Episodes: 26 | Win count: 303 | Win rate: 0.959 | time: 20.18 minutes\n",
      "Epoch: 317/14999 | Loss: 0.0000 | Episodes: 24 | Win count: 304 | Win rate: 0.959 | time: 20.23 minutes\n",
      "Epoch: 318/14999 | Loss: 0.0000 | Episodes: 26 | Win count: 305 | Win rate: 0.959 | time: 20.28 minutes\n"
     ]
    },
    {
     "name": "stdout",
     "output_type": "stream",
     "text": [
      "Epoch: 319/14999 | Loss: 0.0001 | Episodes: 28 | Win count: 306 | Win rate: 0.959 | time: 20.34 minutes\n",
      "Epoch: 320/14999 | Loss: 0.0000 | Episodes: 26 | Win count: 307 | Win rate: 0.959 | time: 20.39 minutes\n",
      "Epoch: 321/14999 | Loss: 0.0000 | Episodes: 27 | Win count: 308 | Win rate: 0.960 | time: 20.44 minutes\n",
      "Epoch: 322/14999 | Loss: 0.0001 | Episodes: 26 | Win count: 309 | Win rate: 0.960 | time: 20.49 minutes\n",
      "Epoch: 323/14999 | Loss: 0.0000 | Episodes: 24 | Win count: 310 | Win rate: 0.960 | time: 20.54 minutes\n",
      "Epoch: 324/14999 | Loss: 0.0000 | Episodes: 24 | Win count: 311 | Win rate: 0.960 | time: 20.58 minutes\n",
      "Epoch: 325/14999 | Loss: 0.0000 | Episodes: 26 | Win count: 312 | Win rate: 0.960 | time: 20.63 minutes\n",
      "Epoch: 326/14999 | Loss: 0.0000 | Episodes: 24 | Win count: 313 | Win rate: 0.960 | time: 20.67 minutes\n",
      "Epoch: 327/14999 | Loss: 0.0000 | Episodes: 24 | Win count: 314 | Win rate: 0.960 | time: 20.72 minutes\n",
      "Epoch: 328/14999 | Loss: 0.0000 | Episodes: 24 | Win count: 315 | Win rate: 0.960 | time: 20.76 minutes\n",
      "Epoch: 329/14999 | Loss: 0.0000 | Episodes: 24 | Win count: 316 | Win rate: 0.960 | time: 20.81 minutes\n",
      "Epoch: 330/14999 | Loss: 0.0000 | Episodes: 26 | Win count: 317 | Win rate: 0.961 | time: 20.87 minutes\n",
      "Epoch: 331/14999 | Loss: 0.0000 | Episodes: 26 | Win count: 318 | Win rate: 0.961 | time: 20.91 minutes\n",
      "Epoch: 332/14999 | Loss: 0.0000 | Episodes: 26 | Win count: 319 | Win rate: 0.961 | time: 20.96 minutes\n",
      "Epoch: 333/14999 | Loss: 0.0000 | Episodes: 30 | Win count: 320 | Win rate: 0.961 | time: 21.02 minutes\n",
      "Epoch: 334/14999 | Loss: 0.0002 | Episodes: 139 | Win count: 320 | Win rate: 0.958 | time: 21.26 minutes\n",
      "Epoch: 335/14999 | Loss: 0.0001 | Episodes: 104 | Win count: 321 | Win rate: 0.958 | time: 21.45 minutes\n",
      "Epoch: 336/14999 | Loss: 0.0000 | Episodes: 28 | Win count: 322 | Win rate: 0.958 | time: 21.51 minutes\n",
      "Epoch: 337/14999 | Loss: 0.0002 | Episodes: 26 | Win count: 323 | Win rate: 0.958 | time: 21.56 minutes\n",
      "Epoch: 338/14999 | Loss: 0.0000 | Episodes: 28 | Win count: 324 | Win rate: 0.959 | time: 21.61 minutes\n",
      "Epoch: 339/14999 | Loss: 0.0001 | Episodes: 26 | Win count: 325 | Win rate: 0.959 | time: 21.66 minutes\n",
      "Epoch: 340/14999 | Loss: 0.0005 | Episodes: 26 | Win count: 326 | Win rate: 0.959 | time: 21.71 minutes\n",
      "Epoch: 341/14999 | Loss: 0.0002 | Episodes: 24 | Win count: 327 | Win rate: 0.959 | time: 21.75 minutes\n",
      "Epoch: 342/14999 | Loss: 0.0003 | Episodes: 24 | Win count: 328 | Win rate: 0.959 | time: 21.79 minutes\n",
      "Epoch: 343/14999 | Loss: 0.0003 | Episodes: 26 | Win count: 329 | Win rate: 0.959 | time: 21.84 minutes\n",
      "Epoch: 344/14999 | Loss: 0.0001 | Episodes: 24 | Win count: 330 | Win rate: 0.959 | time: 21.89 minutes\n",
      "Epoch: 345/14999 | Loss: 0.0000 | Episodes: 24 | Win count: 331 | Win rate: 0.959 | time: 21.94 minutes\n",
      "Epoch: 346/14999 | Loss: 0.0007 | Episodes: 30 | Win count: 332 | Win rate: 0.960 | time: 21.99 minutes\n",
      "Epoch: 347/14999 | Loss: 0.0001 | Episodes: 30 | Win count: 333 | Win rate: 0.960 | time: 22.05 minutes\n",
      "Epoch: 348/14999 | Loss: 0.0000 | Episodes: 24 | Win count: 334 | Win rate: 0.960 | time: 22.09 minutes\n",
      "Epoch: 349/14999 | Loss: 0.0002 | Episodes: 24 | Win count: 335 | Win rate: 0.960 | time: 22.14 minutes\n",
      "Epoch: 350/14999 | Loss: 0.0000 | Episodes: 24 | Win count: 336 | Win rate: 0.960 | time: 22.18 minutes\n",
      "Epoch: 351/14999 | Loss: 0.0000 | Episodes: 24 | Win count: 337 | Win rate: 0.960 | time: 22.22 minutes\n",
      "Epoch: 352/14999 | Loss: 0.0001 | Episodes: 24 | Win count: 338 | Win rate: 0.960 | time: 22.27 minutes\n",
      "Epoch: 353/14999 | Loss: 0.0000 | Episodes: 24 | Win count: 339 | Win rate: 0.960 | time: 22.31 minutes\n",
      "Epoch: 354/14999 | Loss: 0.0000 | Episodes: 24 | Win count: 340 | Win rate: 0.960 | time: 22.36 minutes\n",
      "Epoch: 355/14999 | Loss: 0.0000 | Episodes: 24 | Win count: 341 | Win rate: 0.961 | time: 22.40 minutes\n",
      "Epoch: 356/14999 | Loss: 0.0001 | Episodes: 24 | Win count: 342 | Win rate: 0.961 | time: 22.45 minutes\n",
      "Epoch: 357/14999 | Loss: 0.0002 | Episodes: 24 | Win count: 343 | Win rate: 0.961 | time: 22.49 minutes\n",
      "Epoch: 358/14999 | Loss: 0.0000 | Episodes: 24 | Win count: 344 | Win rate: 0.961 | time: 22.53 minutes\n",
      "Epoch: 359/14999 | Loss: 0.0000 | Episodes: 24 | Win count: 345 | Win rate: 0.961 | time: 22.58 minutes\n",
      "Epoch: 360/14999 | Loss: 0.0000 | Episodes: 24 | Win count: 346 | Win rate: 0.961 | time: 22.62 minutes\n",
      "Epoch: 361/14999 | Loss: 0.0000 | Episodes: 24 | Win count: 347 | Win rate: 0.961 | time: 22.66 minutes\n",
      "Epoch: 362/14999 | Loss: 0.0000 | Episodes: 24 | Win count: 348 | Win rate: 0.961 | time: 22.71 minutes\n",
      "Epoch: 363/14999 | Loss: 0.0000 | Episodes: 24 | Win count: 349 | Win rate: 0.961 | time: 22.75 minutes\n",
      "Epoch: 364/14999 | Loss: 0.0000 | Episodes: 26 | Win count: 350 | Win rate: 0.962 | time: 22.80 minutes\n",
      "Epoch: 365/14999 | Loss: 0.0000 | Episodes: 31 | Win count: 351 | Win rate: 0.962 | time: 22.85 minutes\n",
      "Epoch: 366/14999 | Loss: 0.0000 | Episodes: 24 | Win count: 352 | Win rate: 0.962 | time: 22.90 minutes\n",
      "Epoch: 367/14999 | Loss: 0.0000 | Episodes: 26 | Win count: 353 | Win rate: 0.962 | time: 22.95 minutes\n",
      "Epoch: 368/14999 | Loss: 0.0000 | Episodes: 24 | Win count: 354 | Win rate: 0.962 | time: 23.00 minutes\n",
      "Epoch: 369/14999 | Loss: 0.0000 | Episodes: 26 | Win count: 355 | Win rate: 0.962 | time: 23.05 minutes\n",
      "Epoch: 370/14999 | Loss: 0.0000 | Episodes: 26 | Win count: 356 | Win rate: 0.962 | time: 23.10 minutes\n",
      "Epoch: 371/14999 | Loss: 0.0002 | Episodes: 27 | Win count: 357 | Win rate: 0.962 | time: 23.15 minutes\n",
      "Epoch: 372/14999 | Loss: 0.0000 | Episodes: 26 | Win count: 358 | Win rate: 0.962 | time: 23.20 minutes\n",
      "Epoch: 373/14999 | Loss: 0.0004 | Episodes: 26 | Win count: 359 | Win rate: 0.962 | time: 23.25 minutes\n",
      "Epoch: 374/14999 | Loss: 0.0000 | Episodes: 26 | Win count: 360 | Win rate: 0.963 | time: 23.30 minutes\n",
      "Epoch: 375/14999 | Loss: 0.0000 | Episodes: 24 | Win count: 361 | Win rate: 0.963 | time: 23.35 minutes\n",
      "Epoch: 376/14999 | Loss: 0.0000 | Episodes: 26 | Win count: 362 | Win rate: 0.963 | time: 23.40 minutes\n",
      "Epoch: 377/14999 | Loss: 0.0000 | Episodes: 24 | Win count: 363 | Win rate: 0.963 | time: 23.44 minutes\n",
      "Epoch: 378/14999 | Loss: 0.0000 | Episodes: 26 | Win count: 364 | Win rate: 0.963 | time: 23.49 minutes\n",
      "Epoch: 379/14999 | Loss: 0.0000 | Episodes: 26 | Win count: 365 | Win rate: 0.963 | time: 23.54 minutes\n",
      "Epoch: 380/14999 | Loss: 0.0000 | Episodes: 139 | Win count: 365 | Win rate: 0.961 | time: 23.79 minutes\n",
      "Epoch: 381/14999 | Loss: 0.0004 | Episodes: 26 | Win count: 366 | Win rate: 0.961 | time: 23.84 minutes\n",
      "Epoch: 382/14999 | Loss: 0.0002 | Episodes: 26 | Win count: 367 | Win rate: 0.961 | time: 23.88 minutes\n",
      "Epoch: 383/14999 | Loss: 0.0000 | Episodes: 24 | Win count: 368 | Win rate: 0.961 | time: 23.93 minutes\n",
      "Epoch: 384/14999 | Loss: 0.0001 | Episodes: 31 | Win count: 369 | Win rate: 0.961 | time: 23.99 minutes\n",
      "Epoch: 385/14999 | Loss: 0.0000 | Episodes: 32 | Win count: 370 | Win rate: 0.961 | time: 24.05 minutes\n",
      "Epoch: 386/14999 | Loss: 0.0000 | Episodes: 26 | Win count: 371 | Win rate: 0.961 | time: 24.10 minutes\n",
      "Epoch: 387/14999 | Loss: 0.0001 | Episodes: 26 | Win count: 372 | Win rate: 0.961 | time: 24.14 minutes\n",
      "Epoch: 388/14999 | Loss: 0.0000 | Episodes: 26 | Win count: 373 | Win rate: 0.961 | time: 24.19 minutes\n",
      "Epoch: 389/14999 | Loss: 0.0002 | Episodes: 24 | Win count: 374 | Win rate: 0.961 | time: 24.23 minutes\n",
      "Epoch: 390/14999 | Loss: 0.0000 | Episodes: 26 | Win count: 375 | Win rate: 0.962 | time: 24.28 minutes\n",
      "Epoch: 391/14999 | Loss: 0.0001 | Episodes: 26 | Win count: 376 | Win rate: 0.962 | time: 24.32 minutes\n",
      "Epoch: 392/14999 | Loss: 0.0002 | Episodes: 26 | Win count: 377 | Win rate: 0.962 | time: 24.36 minutes\n",
      "Epoch: 393/14999 | Loss: 0.0000 | Episodes: 28 | Win count: 378 | Win rate: 0.962 | time: 24.41 minutes\n",
      "Epoch: 394/14999 | Loss: 0.0001 | Episodes: 28 | Win count: 379 | Win rate: 0.962 | time: 24.45 minutes\n",
      "Epoch: 395/14999 | Loss: 0.0000 | Episodes: 26 | Win count: 380 | Win rate: 0.962 | time: 24.49 minutes\n",
      "Epoch: 396/14999 | Loss: 0.0000 | Episodes: 26 | Win count: 381 | Win rate: 0.962 | time: 24.54 minutes\n",
      "Epoch: 397/14999 | Loss: 0.0000 | Episodes: 26 | Win count: 382 | Win rate: 0.962 | time: 24.58 minutes\n"
     ]
    },
    {
     "name": "stdout",
     "output_type": "stream",
     "text": [
      "Epoch: 398/14999 | Loss: 0.0000 | Episodes: 24 | Win count: 383 | Win rate: 0.962 | time: 24.61 minutes\n",
      "Epoch: 399/14999 | Loss: 0.0000 | Episodes: 24 | Win count: 384 | Win rate: 0.962 | time: 24.65 minutes\n",
      "Epoch: 400/14999 | Loss: 0.0001 | Episodes: 26 | Win count: 385 | Win rate: 0.963 | time: 24.69 minutes\n",
      "Epoch: 401/14999 | Loss: 0.0000 | Episodes: 26 | Win count: 386 | Win rate: 0.963 | time: 24.74 minutes\n",
      "Epoch: 402/14999 | Loss: 0.0000 | Episodes: 24 | Win count: 387 | Win rate: 0.963 | time: 24.77 minutes\n",
      "Epoch: 403/14999 | Loss: 0.0000 | Episodes: 24 | Win count: 388 | Win rate: 0.963 | time: 24.80 minutes\n",
      "Epoch: 404/14999 | Loss: 0.0000 | Episodes: 28 | Win count: 389 | Win rate: 0.963 | time: 24.84 minutes\n",
      "Epoch: 405/14999 | Loss: 0.0005 | Episodes: 26 | Win count: 390 | Win rate: 0.963 | time: 24.89 minutes\n",
      "Epoch: 406/14999 | Loss: 0.0003 | Episodes: 99 | Win count: 391 | Win rate: 0.963 | time: 25.06 minutes\n",
      "Epoch: 407/14999 | Loss: 0.0000 | Episodes: 24 | Win count: 392 | Win rate: 0.963 | time: 25.10 minutes\n",
      "Epoch: 408/14999 | Loss: 0.0008 | Episodes: 46 | Win count: 393 | Win rate: 0.963 | time: 25.19 minutes\n",
      "Epoch: 409/14999 | Loss: 0.0005 | Episodes: 24 | Win count: 394 | Win rate: 0.963 | time: 25.23 minutes\n",
      "Epoch: 410/14999 | Loss: 0.0001 | Episodes: 34 | Win count: 395 | Win rate: 0.963 | time: 25.28 minutes\n",
      "Epoch: 411/14999 | Loss: 0.0002 | Episodes: 93 | Win count: 396 | Win rate: 0.964 | time: 25.44 minutes\n",
      "Epoch: 412/14999 | Loss: 0.0004 | Episodes: 30 | Win count: 397 | Win rate: 0.964 | time: 25.49 minutes\n",
      "Epoch: 413/14999 | Loss: 0.0000 | Episodes: 30 | Win count: 398 | Win rate: 0.964 | time: 25.54 minutes\n",
      "Epoch: 414/14999 | Loss: 0.0003 | Episodes: 24 | Win count: 399 | Win rate: 0.964 | time: 25.59 minutes\n",
      "Epoch: 415/14999 | Loss: 0.0002 | Episodes: 30 | Win count: 400 | Win rate: 0.964 | time: 25.64 minutes\n",
      "Epoch: 416/14999 | Loss: 0.0003 | Episodes: 24 | Win count: 401 | Win rate: 0.964 | time: 25.69 minutes\n",
      "Epoch: 417/14999 | Loss: 0.0001 | Episodes: 28 | Win count: 402 | Win rate: 0.964 | time: 25.74 minutes\n",
      "Epoch: 418/14999 | Loss: 0.0001 | Episodes: 28 | Win count: 403 | Win rate: 0.964 | time: 25.79 minutes\n",
      "Epoch: 419/14999 | Loss: 0.0001 | Episodes: 26 | Win count: 404 | Win rate: 0.964 | time: 25.84 minutes\n",
      "Epoch: 420/14999 | Loss: 0.0000 | Episodes: 24 | Win count: 405 | Win rate: 0.964 | time: 25.89 minutes\n",
      "Epoch: 421/14999 | Loss: 0.0001 | Episodes: 28 | Win count: 406 | Win rate: 0.964 | time: 25.94 minutes\n",
      "Reached 100% win rate at epoch: 421\n",
      "n_epoch: 421, max_mem: 512, data: 32, time: 25.95 minutes\n"
     ]
    },
    {
     "data": {
      "text/plain": [
       "1557.095467"
      ]
     },
     "execution_count": 90,
     "metadata": {},
     "output_type": "execute_result"
    }
   ],
   "source": [
    "model = build_model(maze)\n",
    "qtrain(model, maze, epochs=1000, max_memory=8*maze.size, data_size=32)"
   ]
  },
  {
   "cell_type": "markdown",
   "metadata": {},
   "source": [
    "This cell will check to see if the model passes the completion check. Note: This could take several minutes."
   ]
  },
  {
   "cell_type": "code",
   "execution_count": 91,
   "metadata": {},
   "outputs": [
    {
     "data": {
      "text/plain": [
       "<matplotlib.image.AxesImage at 0x172ce18de48>"
      ]
     },
     "execution_count": 91,
     "metadata": {},
     "output_type": "execute_result"
    },
    {
     "data": {
      "image/png": "[encoded data removed]",
      "text/plain": [
       "<Figure size 432x288 with 1 Axes>"
      ]
     },
     "metadata": {
      "needs_background": "light"
     },
     "output_type": "display_data"
    }
   ],
   "source": [
    "completion_check(model, qmaze)\n",
    "show(qmaze)"
   ]
  },
  {
   "cell_type": "markdown",
   "metadata": {},
   "source": [
    "This cell will test your model for one game. It will start the pirate at the top-left corner and run play_game. The agent should find a path from the starting position to the target (treasure). The treasure is located in the bottom-right corner."
   ]
  },
  {
   "cell_type": "code",
   "execution_count": 92,
   "metadata": {},
   "outputs": [
    {
     "data": {
      "text/plain": [
       "<matplotlib.image.AxesImage at 0x172ce597c08>"
      ]
     },
     "execution_count": 92,
     "metadata": {},
     "output_type": "execute_result"
    },
    {
     "data": {
      "image/png": "[encoded data removed]",
      "text/plain": [
       "<Figure size 432x288 with 1 Axes>"
      ]
     },
     "metadata": {
      "needs_background": "light"
     },
     "output_type": "display_data"
    }
   ],
   "source": [
    "pirate_start = (0, 0)\n",
    "play_game(model, qmaze, pirate_start)\n",
    "show(qmaze)"
   ]
  },
  {
   "cell_type": "markdown",
   "metadata": {},
   "source": [
    "## Save and Submit Your Work\n",
    "After you have finished creating the code for your notebook, save your work. Make sure that your notebook contains your name in the filename (e.g. Doe_Jane_ProjectTwo.ipynb). This will help your instructor access and grade your work easily. Download a copy of your IPYNB file and submit it to Brightspace. Refer to the Jupyter Notebook in Apporto Tutorial if you need help with these tasks."
   ]
  }
 ],
 "metadata": {
  "kernelspec": {
   "display_name": "Python 3",
   "language": "python",
   "name": "python3"
  },
  "language_info": {
   "codemirror_mode": {
    "name": "ipython",
    "version": 3
   },
   "file_extension": ".py",
   "mimetype": "text/x-python",
   "name": "python",
   "nbconvert_exporter": "python",
   "pygments_lexer": "ipython3",
   "version": "3.7.4"
  }
 },
 "nbformat": 4,
 "nbformat_minor": 2
}
